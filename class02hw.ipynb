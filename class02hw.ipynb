{
 "cells": [
  {
   "cell_type": "markdown",
   "id": "0ee10133",
   "metadata": {},
   "source": [
    "# 计算混淆矩阵"
   ]
  },
  {
   "cell_type": "code",
   "execution_count": 1,
   "id": "5573095d",
   "metadata": {},
   "outputs": [],
   "source": [
    "import numpy as np"
   ]
  },
  {
   "cell_type": "code",
   "execution_count": 4,
   "id": "6128c907",
   "metadata": {},
   "outputs": [],
   "source": [
    "y_Actual =   np.array(['Yes', 'No',  'No', 'Yes', 'No', 'Yes', 'No',  'No', 'Yes', 'No', 'Yes', 'No'])\n",
    "y_Predicted = np.array(['Yes', 'Yes', 'No', 'Yes', 'No', 'Yes', 'Yes', 'No', 'Yes', 'No', 'No',  'No'] ) "
   ]
  },
  {
   "cell_type": "code",
   "execution_count": 10,
   "id": "709f8850",
   "metadata": {},
   "outputs": [],
   "source": [
    "TP = np.sum((y_Actual == 'Yes') & (y_Predicted == 'Yes' ))\n"
   ]
  },
  {
   "cell_type": "code",
   "execution_count": 11,
   "id": "2f73a8e0",
   "metadata": {},
   "outputs": [
    {
     "data": {
      "text/plain": [
       "4"
      ]
     },
     "execution_count": 11,
     "metadata": {},
     "output_type": "execute_result"
    }
   ],
   "source": [
    "TP"
   ]
  },
  {
   "cell_type": "code",
   "execution_count": 12,
   "id": "3742137e",
   "metadata": {},
   "outputs": [],
   "source": [
    "FN = np.sum((y_Actual == 'Yes') & (y_Predicted == 'No' ))"
   ]
  },
  {
   "cell_type": "code",
   "execution_count": 13,
   "id": "b2341d83",
   "metadata": {},
   "outputs": [],
   "source": [
    "FP = np.sum((y_Actual == 'No') & (y_Predicted == 'Yes' ))"
   ]
  },
  {
   "cell_type": "code",
   "execution_count": 14,
   "id": "56e205a1",
   "metadata": {},
   "outputs": [],
   "source": [
    "TN = np.sum((y_Actual == 'No') & (y_Predicted == 'No' ))"
   ]
  },
  {
   "cell_type": "code",
   "execution_count": 15,
   "id": "961edb30",
   "metadata": {},
   "outputs": [
    {
     "data": {
      "text/plain": [
       "(4, 1, 2, 5)"
      ]
     },
     "execution_count": 15,
     "metadata": {},
     "output_type": "execute_result"
    }
   ],
   "source": [
    "TP, FN, FP, TN"
   ]
  },
  {
   "cell_type": "code",
   "execution_count": 16,
   "id": "939723ee",
   "metadata": {},
   "outputs": [],
   "source": [
    "recall = TP /(TP + FN)"
   ]
  },
  {
   "cell_type": "code",
   "execution_count": 17,
   "id": "b560c5d0",
   "metadata": {},
   "outputs": [
    {
     "data": {
      "text/plain": [
       "0.8"
      ]
     },
     "execution_count": 17,
     "metadata": {},
     "output_type": "execute_result"
    }
   ],
   "source": [
    "recall"
   ]
  },
  {
   "cell_type": "code",
   "execution_count": 18,
   "id": "9c78693a",
   "metadata": {},
   "outputs": [
    {
     "data": {
      "text/plain": [
       "0.8"
      ]
     },
     "execution_count": 18,
     "metadata": {},
     "output_type": "execute_result"
    }
   ],
   "source": [
    "TP /sum (y_Actual == 'Yes')"
   ]
  },
  {
   "cell_type": "code",
   "execution_count": 19,
   "id": "1026b341",
   "metadata": {},
   "outputs": [],
   "source": [
    "presion = TP /(TP + FP)"
   ]
  },
  {
   "cell_type": "code",
   "execution_count": 20,
   "id": "77dbec61",
   "metadata": {},
   "outputs": [
    {
     "data": {
      "text/plain": [
       "0.6666666666666666"
      ]
     },
     "execution_count": 20,
     "metadata": {},
     "output_type": "execute_result"
    }
   ],
   "source": [
    "presion"
   ]
  },
  {
   "cell_type": "code",
   "execution_count": 21,
   "id": "6316a736",
   "metadata": {},
   "outputs": [],
   "source": [
    "acc = (TP + TN) /(TP +  FN +  FP + TN)"
   ]
  },
  {
   "cell_type": "code",
   "execution_count": 22,
   "id": "f02c929f",
   "metadata": {},
   "outputs": [
    {
     "data": {
      "text/plain": [
       "0.75"
      ]
     },
     "execution_count": 22,
     "metadata": {},
     "output_type": "execute_result"
    }
   ],
   "source": [
    "acc"
   ]
  },
  {
   "cell_type": "code",
   "execution_count": 24,
   "id": "39f19f13",
   "metadata": {},
   "outputs": [],
   "source": [
    "F1 = 2 * (presion * recall) /(presion + recall)"
   ]
  },
  {
   "cell_type": "code",
   "execution_count": 25,
   "id": "4caedd39",
   "metadata": {},
   "outputs": [
    {
     "data": {
      "text/plain": [
       "0.7272727272727272"
      ]
     },
     "execution_count": 25,
     "metadata": {},
     "output_type": "execute_result"
    }
   ],
   "source": [
    "F1"
   ]
  },
  {
   "cell_type": "markdown",
   "id": "41110d95",
   "metadata": {},
   "source": [
    "# 使用sklearn"
   ]
  },
  {
   "cell_type": "code",
   "execution_count": 27,
   "id": "aa21a0e5",
   "metadata": {},
   "outputs": [],
   "source": [
    "from sklearn.metrics import recall_score\n",
    "from sklearn.metrics  import precision_score\n",
    "from sklearn.metrics import f1_score"
   ]
  },
  {
   "cell_type": "code",
   "execution_count": 28,
   "id": "cf517d19",
   "metadata": {},
   "outputs": [],
   "source": [
    "y_Actual =   np.array(['Yes', 'No',  'No', 'Yes', 'No', 'Yes', 'No',  'No', 'Yes', 'No', 'Yes', 'No'])\n",
    "y_Predicted = np.array(['Yes', 'Yes', 'No', 'Yes', 'No', 'Yes', 'Yes', 'No', 'Yes', 'No', 'No',  'No'] ) "
   ]
  },
  {
   "cell_type": "code",
   "execution_count": 29,
   "id": "1825ef3d",
   "metadata": {},
   "outputs": [
    {
     "data": {
      "text/plain": [
       "0.6666666666666666"
      ]
     },
     "execution_count": 29,
     "metadata": {},
     "output_type": "execute_result"
    }
   ],
   "source": [
    "precision_score(y_Actual, y_Predicted, pos_label = 'Yes')"
   ]
  },
  {
   "cell_type": "code",
   "execution_count": 30,
   "id": "6e9c5a7d",
   "metadata": {},
   "outputs": [
    {
     "data": {
      "text/plain": [
       "0.8"
      ]
     },
     "execution_count": 30,
     "metadata": {},
     "output_type": "execute_result"
    }
   ],
   "source": [
    "recall_score(y_Actual, y_Predicted, pos_label = 'Yes')"
   ]
  },
  {
   "cell_type": "code",
   "execution_count": null,
   "id": "9572475e",
   "metadata": {},
   "outputs": [],
   "source": []
  }
 ],
 "metadata": {
  "kernelspec": {
   "display_name": "Python 3 (ipykernel)",
   "language": "python",
   "name": "python3"
  },
  "language_info": {
   "codemirror_mode": {
    "name": "ipython",
    "version": 3
   },
   "file_extension": ".py",
   "mimetype": "text/x-python",
   "name": "python",
   "nbconvert_exporter": "python",
   "pygments_lexer": "ipython3",
   "version": "3.8.8"
  },
  "toc": {
   "base_numbering": 1,
   "nav_menu": {},
   "number_sections": true,
   "sideBar": true,
   "skip_h1_title": false,
   "title_cell": "Table of Contents",
   "title_sidebar": "Contents",
   "toc_cell": false,
   "toc_position": {},
   "toc_section_display": true,
   "toc_window_display": false
  },
  "varInspector": {
   "cols": {
    "lenName": 16,
    "lenType": 16,
    "lenVar": 40
   },
   "kernels_config": {
    "python": {
     "delete_cmd_postfix": "",
     "delete_cmd_prefix": "del ",
     "library": "var_list.py",
     "varRefreshCmd": "print(var_dic_list())"
    },
    "r": {
     "delete_cmd_postfix": ") ",
     "delete_cmd_prefix": "rm(",
     "library": "var_list.r",
     "varRefreshCmd": "cat(var_dic_list()) "
    }
   },
   "types_to_exclude": [
    "module",
    "function",
    "builtin_function_or_method",
    "instance",
    "_Feature"
   ],
   "window_display": false
  }
 },
 "nbformat": 4,
 "nbformat_minor": 5
}
