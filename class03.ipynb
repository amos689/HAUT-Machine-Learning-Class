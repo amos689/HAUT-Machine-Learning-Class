{
 "cells": [
  {
   "attachments": {
    "image.png": {
     "image/png": "[encoded data removed]"
    }
   },
   "cell_type": "markdown",
   "id": "84b326f1",
   "metadata": {},
   "source": [
    "data:image/png;base64,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![image.png](attachment:image.png)"
   ]
  },
  {
   "cell_type": "markdown",
   "id": "0a4bc45f",
   "metadata": {},
   "source": [
    "![image.png](attachment:image.png)\n",
    "\n",
    "where X̄ is the mean of X values and Ȳ is the mean of Y values.\n",
    "\n",
    "If you are familiar with statistics, you may recognise β as simply\n",
    "**$ \\sum Cov(X, Y) / \\sum Var(X) $**."
   ]
  },
  {
   "cell_type": "code",
   "execution_count": 1,
   "id": "ae31efc3",
   "metadata": {},
   "outputs": [],
   "source": [
    "import pandas as pd\n",
    "import numpy as np\n",
    "import matplotlib.pyplot as plt"
   ]
  },
  {
   "cell_type": "code",
   "execution_count": 4,
   "id": "8dfc2aee",
   "metadata": {},
   "outputs": [],
   "source": [
    "np.random.seed(0)"
   ]
  },
  {
   "cell_type": "code",
   "execution_count": 8,
   "id": "65506305",
   "metadata": {},
   "outputs": [],
   "source": [
    "X = 2.5 * np.random.randn(100) + 1.5 "
   ]
  },
  {
   "cell_type": "code",
   "execution_count": 10,
   "id": "c0d6ad11",
   "metadata": {},
   "outputs": [],
   "source": [
    "res = np.random.randn(100) * 0.5"
   ]
  },
  {
   "cell_type": "code",
   "execution_count": 11,
   "id": "31260371",
   "metadata": {},
   "outputs": [],
   "source": [
    "y = X + res"
   ]
  },
  {
   "cell_type": "code",
   "execution_count": 13,
   "id": "c2737c0d",
   "metadata": {},
   "outputs": [],
   "source": [
    "df = pd.DataFrame({'X' : X, \n",
    "                   'y' : y} )"
   ]
  },
  {
   "cell_type": "code",
   "execution_count": 14,
   "id": "eeddcf72",
   "metadata": {},
   "outputs": [
    {
     "data": {
      "text/html": [
       "<div>\n",
       "<style scoped>\n",
       "    .dataframe tbody tr th:only-of-type {\n",
       "        vertical-align: middle;\n",
       "    }\n",
       "\n",
       "    .dataframe tbody tr th {\n",
       "        vertical-align: top;\n",
       "    }\n",
       "\n",
       "    .dataframe thead th {\n",
       "        text-align: right;\n",
       "    }\n",
       "</style>\n",
       "<table border=\"1\" class=\"dataframe\">\n",
       "  <thead>\n",
       "    <tr style=\"text-align: right;\">\n",
       "      <th></th>\n",
       "      <th>X</th>\n",
       "      <th>y</th>\n",
       "    </tr>\n",
       "  </thead>\n",
       "  <tbody>\n",
       "    <tr>\n",
       "      <th>0</th>\n",
       "      <td>0.577045</td>\n",
       "      <td>-0.076218</td>\n",
       "    </tr>\n",
       "    <tr>\n",
       "      <th>1</th>\n",
       "      <td>0.901552</td>\n",
       "      <td>1.730617</td>\n",
       "    </tr>\n",
       "    <tr>\n",
       "      <th>2</th>\n",
       "      <td>4.249149</td>\n",
       "      <td>4.190067</td>\n",
       "    </tr>\n",
       "    <tr>\n",
       "      <th>3</th>\n",
       "      <td>3.138159</td>\n",
       "      <td>2.798070</td>\n",
       "    </tr>\n",
       "    <tr>\n",
       "      <th>4</th>\n",
       "      <td>3.100329</td>\n",
       "      <td>3.433520</td>\n",
       "    </tr>\n",
       "    <tr>\n",
       "      <th>...</th>\n",
       "      <td>...</td>\n",
       "      <td>...</td>\n",
       "    </tr>\n",
       "    <tr>\n",
       "      <th>95</th>\n",
       "      <td>4.342228</td>\n",
       "      <td>3.961482</td>\n",
       "    </tr>\n",
       "    <tr>\n",
       "      <th>96</th>\n",
       "      <td>1.744312</td>\n",
       "      <td>2.173274</td>\n",
       "    </tr>\n",
       "    <tr>\n",
       "      <th>97</th>\n",
       "      <td>2.957384</td>\n",
       "      <td>3.527935</td>\n",
       "    </tr>\n",
       "    <tr>\n",
       "      <th>98</th>\n",
       "      <td>0.501377</td>\n",
       "      <td>1.234667</td>\n",
       "    </tr>\n",
       "    <tr>\n",
       "      <th>99</th>\n",
       "      <td>2.425140</td>\n",
       "      <td>2.851416</td>\n",
       "    </tr>\n",
       "  </tbody>\n",
       "</table>\n",
       "<p>100 rows × 2 columns</p>\n",
       "</div>"
      ],
      "text/plain": [
       "           X         y\n",
       "0   0.577045 -0.076218\n",
       "1   0.901552  1.730617\n",
       "2   4.249149  4.190067\n",
       "3   3.138159  2.798070\n",
       "4   3.100329  3.433520\n",
       "..       ...       ...\n",
       "95  4.342228  3.961482\n",
       "96  1.744312  2.173274\n",
       "97  2.957384  3.527935\n",
       "98  0.501377  1.234667\n",
       "99  2.425140  2.851416\n",
       "\n",
       "[100 rows x 2 columns]"
      ]
     },
     "execution_count": 14,
     "metadata": {},
     "output_type": "execute_result"
    }
   ],
   "source": [
    "df"
   ]
  },
  {
   "cell_type": "code",
   "execution_count": 21,
   "id": "09fc5a8a",
   "metadata": {},
   "outputs": [
    {
     "data": {
      "image/png": "[encoded data removed]",
      "text/plain": [
       "<Figure size 864x432 with 1 Axes>"
      ]
     },
     "metadata": {
      "needs_background": "light"
     },
     "output_type": "display_data"
    }
   ],
   "source": [
    "plt.figure(figsize = (12, 6))\n",
    "_ = plt.plot(df['X'],df['y'], 'bo')"
   ]
  },
  {
   "cell_type": "code",
   "execution_count": 24,
   "id": "04f879ee",
   "metadata": {},
   "outputs": [],
   "source": [
    "X_mean = np.mean(X)"
   ]
  },
  {
   "cell_type": "code",
   "execution_count": 25,
   "id": "f9a94e0c",
   "metadata": {},
   "outputs": [
    {
     "data": {
      "text/plain": [
       "1.351919348600842"
      ]
     },
     "execution_count": 25,
     "metadata": {},
     "output_type": "execute_result"
    }
   ],
   "source": [
    "X_mean"
   ]
  },
  {
   "cell_type": "code",
   "execution_count": 26,
   "id": "f4f21c27",
   "metadata": {},
   "outputs": [],
   "source": [
    "y_mean= np.mean(y)"
   ]
  },
  {
   "cell_type": "code",
   "execution_count": 28,
   "id": "5a7a255e",
   "metadata": {},
   "outputs": [],
   "source": [
    "df['xycov'] = (df['X'] - X_mean) * (df['y'] - y_mean)"
   ]
  },
  {
   "cell_type": "code",
   "execution_count": 30,
   "id": "0a8b654d",
   "metadata": {},
   "outputs": [],
   "source": [
    "df['xvar'] = (df['X'] - X_mean) * (df['X'] - X_mean) "
   ]
  },
  {
   "cell_type": "code",
   "execution_count": 31,
   "id": "971a61cb",
   "metadata": {},
   "outputs": [
    {
     "data": {
      "text/html": [
       "<div>\n",
       "<style scoped>\n",
       "    .dataframe tbody tr th:only-of-type {\n",
       "        vertical-align: middle;\n",
       "    }\n",
       "\n",
       "    .dataframe tbody tr th {\n",
       "        vertical-align: top;\n",
       "    }\n",
       "\n",
       "    .dataframe thead th {\n",
       "        text-align: right;\n",
       "    }\n",
       "</style>\n",
       "<table border=\"1\" class=\"dataframe\">\n",
       "  <thead>\n",
       "    <tr style=\"text-align: right;\">\n",
       "      <th></th>\n",
       "      <th>X</th>\n",
       "      <th>y</th>\n",
       "      <th>xycov</th>\n",
       "      <th>xvar</th>\n",
       "    </tr>\n",
       "  </thead>\n",
       "  <tbody>\n",
       "    <tr>\n",
       "      <th>0</th>\n",
       "      <td>0.577045</td>\n",
       "      <td>-0.076218</td>\n",
       "      <td>1.030380</td>\n",
       "      <td>0.600430</td>\n",
       "    </tr>\n",
       "    <tr>\n",
       "      <th>1</th>\n",
       "      <td>0.901552</td>\n",
       "      <td>1.730617</td>\n",
       "      <td>-0.214869</td>\n",
       "      <td>0.202831</td>\n",
       "    </tr>\n",
       "    <tr>\n",
       "      <th>2</th>\n",
       "      <td>4.249149</td>\n",
       "      <td>4.190067</td>\n",
       "      <td>8.507848</td>\n",
       "      <td>8.393940</td>\n",
       "    </tr>\n",
       "    <tr>\n",
       "      <th>3</th>\n",
       "      <td>3.138159</td>\n",
       "      <td>2.798070</td>\n",
       "      <td>2.758936</td>\n",
       "      <td>3.190653</td>\n",
       "    </tr>\n",
       "    <tr>\n",
       "      <th>4</th>\n",
       "      <td>3.100329</td>\n",
       "      <td>3.433520</td>\n",
       "      <td>3.811532</td>\n",
       "      <td>3.056936</td>\n",
       "    </tr>\n",
       "    <tr>\n",
       "      <th>...</th>\n",
       "      <td>...</td>\n",
       "      <td>...</td>\n",
       "      <td>...</td>\n",
       "      <td>...</td>\n",
       "    </tr>\n",
       "    <tr>\n",
       "      <th>95</th>\n",
       "      <td>4.342228</td>\n",
       "      <td>3.961482</td>\n",
       "      <td>8.097641</td>\n",
       "      <td>8.941948</td>\n",
       "    </tr>\n",
       "    <tr>\n",
       "      <th>96</th>\n",
       "      <td>1.744312</td>\n",
       "      <td>2.173274</td>\n",
       "      <td>0.360905</td>\n",
       "      <td>0.153972</td>\n",
       "    </tr>\n",
       "    <tr>\n",
       "      <th>97</th>\n",
       "      <td>2.957384</td>\n",
       "      <td>3.527935</td>\n",
       "      <td>3.651492</td>\n",
       "      <td>2.577517</td>\n",
       "    </tr>\n",
       "    <tr>\n",
       "      <th>98</th>\n",
       "      <td>0.501377</td>\n",
       "      <td>1.234667</td>\n",
       "      <td>0.016036</td>\n",
       "      <td>0.723422</td>\n",
       "    </tr>\n",
       "    <tr>\n",
       "      <th>99</th>\n",
       "      <td>2.425140</td>\n",
       "      <td>2.851416</td>\n",
       "      <td>1.714893</td>\n",
       "      <td>1.151802</td>\n",
       "    </tr>\n",
       "  </tbody>\n",
       "</table>\n",
       "<p>100 rows × 4 columns</p>\n",
       "</div>"
      ],
      "text/plain": [
       "           X         y     xycov      xvar\n",
       "0   0.577045 -0.076218  1.030380  0.600430\n",
       "1   0.901552  1.730617 -0.214869  0.202831\n",
       "2   4.249149  4.190067  8.507848  8.393940\n",
       "3   3.138159  2.798070  2.758936  3.190653\n",
       "4   3.100329  3.433520  3.811532  3.056936\n",
       "..       ...       ...       ...       ...\n",
       "95  4.342228  3.961482  8.097641  8.941948\n",
       "96  1.744312  2.173274  0.360905  0.153972\n",
       "97  2.957384  3.527935  3.651492  2.577517\n",
       "98  0.501377  1.234667  0.016036  0.723422\n",
       "99  2.425140  2.851416  1.714893  1.151802\n",
       "\n",
       "[100 rows x 4 columns]"
      ]
     },
     "execution_count": 31,
     "metadata": {},
     "output_type": "execute_result"
    }
   ],
   "source": [
    "df"
   ]
  },
  {
   "cell_type": "code",
   "execution_count": 32,
   "id": "dcbd32b9",
   "metadata": {},
   "outputs": [],
   "source": [
    "w1 = df['xycov'].sum() / df['xvar'].sum()"
   ]
  },
  {
   "cell_type": "code",
   "execution_count": 33,
   "id": "a5127f03",
   "metadata": {},
   "outputs": [
    {
     "data": {
      "text/plain": [
       "1.0247155870416342"
      ]
     },
     "execution_count": 33,
     "metadata": {},
     "output_type": "execute_result"
    }
   ],
   "source": [
    "w1"
   ]
  },
  {
   "cell_type": "code",
   "execution_count": 34,
   "id": "41e05d53",
   "metadata": {},
   "outputs": [],
   "source": [
    "w0 = y_mean - (w1 * X_mean)"
   ]
  },
  {
   "cell_type": "code",
   "execution_count": 35,
   "id": "4487ccdf",
   "metadata": {},
   "outputs": [
    {
     "data": {
      "text/plain": [
       "-0.13181183360656878"
      ]
     },
     "execution_count": 35,
     "metadata": {},
     "output_type": "execute_result"
    }
   ],
   "source": [
    "w0"
   ]
  },
  {
   "cell_type": "code",
   "execution_count": 37,
   "id": "5a028862",
   "metadata": {},
   "outputs": [],
   "source": [
    "y_predict = w0 + w1 * X"
   ]
  },
  {
   "cell_type": "code",
   "execution_count": 39,
   "id": "3077e062",
   "metadata": {},
   "outputs": [
    {
     "data": {
      "image/png": "[encoded data removed]",
      "text/plain": [
       "<Figure size 864x432 with 1 Axes>"
      ]
     },
     "metadata": {
      "needs_background": "light"
     },
     "output_type": "display_data"
    }
   ],
   "source": [
    "plt.figure(figsize = (12, 6))\n",
    "_ = plt.plot(df['X'],df['y'], 'bo')\n",
    "\n",
    "plt.plot(X, y_predict, 'r--')\n",
    "\n",
    "plt.show()"
   ]
  },
  {
   "cell_type": "code",
   "execution_count": 43,
   "id": "73640c43",
   "metadata": {},
   "outputs": [
    {
     "data": {
      "text/plain": [
       "0.21246505847750136"
      ]
     },
     "execution_count": 43,
     "metadata": {},
     "output_type": "execute_result"
    }
   ],
   "source": [
    "np.sum((y - y_predict) ** 2) / y.size"
   ]
  },
  {
   "cell_type": "markdown",
   "id": "9e1fd404",
   "metadata": {},
   "source": [
    "## ver 2,sklearn"
   ]
  },
  {
   "cell_type": "code",
   "execution_count": 44,
   "id": "e84c856c",
   "metadata": {},
   "outputs": [],
   "source": [
    "from sklearn.linear_model import LinearRegression"
   ]
  },
  {
   "cell_type": "code",
   "execution_count": 45,
   "id": "4cdebf63",
   "metadata": {},
   "outputs": [],
   "source": [
    "# (1) 构建模型\n",
    "lm = LinearRegression()\n",
    "#(2) 训练模型\n",
    "model = lm.fit(df[['X']], y)\n",
    "#ver2 \n",
    "# model = lm.fit(X.reshape(-1,1), y)\n",
    "model.intercept_  #w0\n",
    "model.coef_"
   ]
  },
  {
   "cell_type": "code",
   "execution_count": 58,
   "id": "d69e7998",
   "metadata": {},
   "outputs": [],
   "source": [
    "y_predict2 = model.intercept_  + model.coef_ * X"
   ]
  },
  {
   "cell_type": "code",
   "execution_count": 59,
   "id": "1c62e42e",
   "metadata": {},
   "outputs": [
    {
     "data": {
      "image/png": "[encoded data removed]",
      "text/plain": [
       "<Figure size 864x432 with 1 Axes>"
      ]
     },
     "metadata": {
      "needs_background": "light"
     },
     "output_type": "display_data"
    }
   ],
   "source": [
    "plt.figure(figsize = (12, 6))\n",
    "_ = plt.plot(df['X'],df['y'], 'bo')\n",
    "\n",
    "plt.plot(X, y_predict2, 'r--')\n",
    "\n",
    "plt.show()"
   ]
  },
  {
   "cell_type": "code",
   "execution_count": 62,
   "id": "51a3117f",
   "metadata": {},
   "outputs": [
    {
     "data": {
      "text/plain": [
       "array([ 0.45949559,  0.79202261,  4.22235737,  3.08390894,  3.04514343,\n",
       "       -2.73703861,  1.34294315, -0.48541789,  2.1223693 ,  1.15382096,\n",
       "        3.73694783,  2.21790767,  3.41966785,  0.21039425, -1.01421045,\n",
       "        0.35480077,  1.36165884,  2.37656828,  7.19313429,  1.29700764,\n",
       "       -1.04366781,  0.51892925,  0.21762649,  2.63871547, -2.54193525,\n",
       "        1.56732543,  1.80619827,  2.00006036, -0.12493617,  0.79575628,\n",
       "       -2.24288198,  0.14148011,  0.01456501,  2.47109397, -1.55663385,\n",
       "        3.40652623,  5.23381557, -3.89760325,  2.49724646,  3.13935708,\n",
       "       -0.22771759,  0.387535  ,  1.06484955,  0.64238416,  0.61363553,\n",
       "       -2.88830651,  4.35729184,  4.17101655, -0.67840604, -2.35140812,\n",
       "        2.7401198 , -0.06978572,  1.76891559,  0.58720953,  3.17683789,\n",
       "        3.18506224, -0.45356581, -2.13862497, -2.64989258,  2.96892471,\n",
       "       -1.64034498,  0.106905  , -0.12236918,  1.27059523, -3.5550787 ,\n",
       "        1.88887247,  2.74735979,  1.63178027,  0.60883678,  1.65478022,\n",
       "        2.42753407, -5.69753599,  6.41589612,  2.40459832, -0.26607156,\n",
       "        0.4037215 ,  2.67012379,  1.10782776, -3.79692352,  6.69405658,\n",
       "        1.12207971,  4.01872874, -0.36762412,  5.34113533,  2.13881365,\n",
       "        2.96499097, -1.27245699,  4.50796019,  3.17243011,  4.74031686,\n",
       "       -0.20376623,  0.17297158,  7.30740993, -1.31027529,  1.0569871 ,\n",
       "        4.3177373 ,  1.65561229,  2.89866585,  0.38195743,  2.35326664])"
      ]
     },
     "execution_count": 62,
     "metadata": {},
     "output_type": "execute_result"
    }
   ],
   "source": [
    "model.predict(df[['X']])"
   ]
  },
  {
   "cell_type": "code",
   "execution_count": 63,
   "id": "b9e7e05d",
   "metadata": {},
   "outputs": [],
   "source": [
    "from sklearn.metrics import r2_score"
   ]
  },
  {
   "cell_type": "code",
   "execution_count": 64,
   "id": "434a6d1c",
   "metadata": {},
   "outputs": [
    {
     "data": {
      "text/plain": [
       "0.9642789242891322"
      ]
     },
     "execution_count": 64,
     "metadata": {},
     "output_type": "execute_result"
    }
   ],
   "source": [
    "r2_score(y_predict2, y)"
   ]
  },
  {
   "cell_type": "code",
   "execution_count": null,
   "id": "93b87d83",
   "metadata": {},
   "outputs": [],
   "source": []
  }
 ],
 "metadata": {
  "kernelspec": {
   "display_name": "Python 3 (ipykernel)",
   "language": "python",
   "name": "python3"
  },
  "language_info": {
   "codemirror_mode": {
    "name": "ipython",
    "version": 3
   },
   "file_extension": ".py",
   "mimetype": "text/x-python",
   "name": "python",
   "nbconvert_exporter": "python",
   "pygments_lexer": "ipython3",
   "version": "3.8.8"
  },
  "toc": {
   "base_numbering": 1,
   "nav_menu": {},
   "number_sections": true,
   "sideBar": true,
   "skip_h1_title": false,
   "title_cell": "Table of Contents",
   "title_sidebar": "Contents",
   "toc_cell": false,
   "toc_position": {},
   "toc_section_display": true,
   "toc_window_display": false
  },
  "varInspector": {
   "cols": {
    "lenName": 16,
    "lenType": 16,
    "lenVar": 40
   },
   "kernels_config": {
    "python": {
     "delete_cmd_postfix": "",
     "delete_cmd_prefix": "del ",
     "library": "var_list.py",
     "varRefreshCmd": "print(var_dic_list())"
    },
    "r": {
     "delete_cmd_postfix": ") ",
     "delete_cmd_prefix": "rm(",
     "library": "var_list.r",
     "varRefreshCmd": "cat(var_dic_list()) "
    }
   },
   "types_to_exclude": [
    "module",
    "function",
    "builtin_function_or_method",
    "instance",
    "_Feature"
   ],
   "window_display": false
  }
 },
 "nbformat": 4,
 "nbformat_minor": 5
}
