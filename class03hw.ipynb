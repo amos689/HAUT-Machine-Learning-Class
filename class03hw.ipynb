{
 "cells": [
  {
   "cell_type": "markdown",
   "id": "1698542e",
   "metadata": {},
   "source": [
    "## 导入数据"
   ]
  },
  {
   "cell_type": "code",
   "execution_count": 2,
   "id": "75c37535",
   "metadata": {},
   "outputs": [],
   "source": [
    "import pandas as pd"
   ]
  },
  {
   "cell_type": "code",
   "execution_count": 6,
   "id": "15aff91a",
   "metadata": {},
   "outputs": [],
   "source": [
    "df = pd.read_csv('Advertising.csv', \n",
    "                 usecols = ['TV', 'Radio', 'Newspaper', 'Sales'])"
   ]
  },
  {
   "cell_type": "code",
   "execution_count": 8,
   "id": "3deebcf6",
   "metadata": {},
   "outputs": [],
   "source": [
    "df = pd.read_csv('Advertising.csv', \n",
    "                 usecols = [1, 2, 3, 4])"
   ]
  },
  {
   "cell_type": "markdown",
   "id": "a9f341e4",
   "metadata": {},
   "source": [
    "## 训练模型"
   ]
  },
  {
   "cell_type": "code",
   "execution_count": 10,
   "id": "a53124c3",
   "metadata": {},
   "outputs": [],
   "source": [
    "from sklearn.linear_model import LinearRegression"
   ]
  },
  {
   "cell_type": "code",
   "execution_count": 13,
   "id": "85b92147",
   "metadata": {},
   "outputs": [],
   "source": [
    "model = LinearRegression().fit(df[['TV', 'Radio', 'Newspaper']], df['Sales'] )"
   ]
  },
  {
   "cell_type": "markdown",
   "id": "e9661a32",
   "metadata": {},
   "source": [
    "## 模型预测"
   ]
  },
  {
   "cell_type": "code",
   "execution_count": 14,
   "id": "64c34f49",
   "metadata": {},
   "outputs": [],
   "source": [
    "y_predcit = model.predict(df[['TV', 'Radio', 'Newspaper']])"
   ]
  },
  {
   "cell_type": "code",
   "execution_count": 17,
   "id": "7090e9d1",
   "metadata": {},
   "outputs": [],
   "source": [
    "df['y_predcit'] = y_predcit "
   ]
  },
  {
   "cell_type": "code",
   "execution_count": 18,
   "id": "c92ee1a3",
   "metadata": {},
   "outputs": [
    {
     "data": {
      "text/html": [
       "<div>\n",
       "<style scoped>\n",
       "    .dataframe tbody tr th:only-of-type {\n",
       "        vertical-align: middle;\n",
       "    }\n",
       "\n",
       "    .dataframe tbody tr th {\n",
       "        vertical-align: top;\n",
       "    }\n",
       "\n",
       "    .dataframe thead th {\n",
       "        text-align: right;\n",
       "    }\n",
       "</style>\n",
       "<table border=\"1\" class=\"dataframe\">\n",
       "  <thead>\n",
       "    <tr style=\"text-align: right;\">\n",
       "      <th></th>\n",
       "      <th>TV</th>\n",
       "      <th>Radio</th>\n",
       "      <th>Newspaper</th>\n",
       "      <th>Sales</th>\n",
       "      <th>y_predcit</th>\n",
       "    </tr>\n",
       "  </thead>\n",
       "  <tbody>\n",
       "    <tr>\n",
       "      <th>0</th>\n",
       "      <td>230.1</td>\n",
       "      <td>37.8</td>\n",
       "      <td>69.2</td>\n",
       "      <td>22.1</td>\n",
       "      <td>20.523974</td>\n",
       "    </tr>\n",
       "    <tr>\n",
       "      <th>1</th>\n",
       "      <td>44.5</td>\n",
       "      <td>39.3</td>\n",
       "      <td>45.1</td>\n",
       "      <td>10.4</td>\n",
       "      <td>12.337855</td>\n",
       "    </tr>\n",
       "    <tr>\n",
       "      <th>2</th>\n",
       "      <td>17.2</td>\n",
       "      <td>45.9</td>\n",
       "      <td>69.3</td>\n",
       "      <td>9.3</td>\n",
       "      <td>12.307671</td>\n",
       "    </tr>\n",
       "    <tr>\n",
       "      <th>3</th>\n",
       "      <td>151.5</td>\n",
       "      <td>41.3</td>\n",
       "      <td>58.5</td>\n",
       "      <td>18.5</td>\n",
       "      <td>17.597830</td>\n",
       "    </tr>\n",
       "    <tr>\n",
       "      <th>4</th>\n",
       "      <td>180.8</td>\n",
       "      <td>10.8</td>\n",
       "      <td>58.4</td>\n",
       "      <td>12.9</td>\n",
       "      <td>13.188672</td>\n",
       "    </tr>\n",
       "    <tr>\n",
       "      <th>...</th>\n",
       "      <td>...</td>\n",
       "      <td>...</td>\n",
       "      <td>...</td>\n",
       "      <td>...</td>\n",
       "      <td>...</td>\n",
       "    </tr>\n",
       "    <tr>\n",
       "      <th>195</th>\n",
       "      <td>38.2</td>\n",
       "      <td>3.7</td>\n",
       "      <td>13.8</td>\n",
       "      <td>7.6</td>\n",
       "      <td>5.370342</td>\n",
       "    </tr>\n",
       "    <tr>\n",
       "      <th>196</th>\n",
       "      <td>94.2</td>\n",
       "      <td>4.9</td>\n",
       "      <td>8.1</td>\n",
       "      <td>9.7</td>\n",
       "      <td>8.165312</td>\n",
       "    </tr>\n",
       "    <tr>\n",
       "      <th>197</th>\n",
       "      <td>177.0</td>\n",
       "      <td>9.3</td>\n",
       "      <td>6.4</td>\n",
       "      <td>12.8</td>\n",
       "      <td>12.785921</td>\n",
       "    </tr>\n",
       "    <tr>\n",
       "      <th>198</th>\n",
       "      <td>283.6</td>\n",
       "      <td>42.0</td>\n",
       "      <td>66.2</td>\n",
       "      <td>25.5</td>\n",
       "      <td>23.767321</td>\n",
       "    </tr>\n",
       "    <tr>\n",
       "      <th>199</th>\n",
       "      <td>232.1</td>\n",
       "      <td>8.6</td>\n",
       "      <td>8.7</td>\n",
       "      <td>13.4</td>\n",
       "      <td>15.173196</td>\n",
       "    </tr>\n",
       "  </tbody>\n",
       "</table>\n",
       "<p>200 rows × 5 columns</p>\n",
       "</div>"
      ],
      "text/plain": [
       "        TV  Radio  Newspaper  Sales  y_predcit\n",
       "0    230.1   37.8       69.2   22.1  20.523974\n",
       "1     44.5   39.3       45.1   10.4  12.337855\n",
       "2     17.2   45.9       69.3    9.3  12.307671\n",
       "3    151.5   41.3       58.5   18.5  17.597830\n",
       "4    180.8   10.8       58.4   12.9  13.188672\n",
       "..     ...    ...        ...    ...        ...\n",
       "195   38.2    3.7       13.8    7.6   5.370342\n",
       "196   94.2    4.9        8.1    9.7   8.165312\n",
       "197  177.0    9.3        6.4   12.8  12.785921\n",
       "198  283.6   42.0       66.2   25.5  23.767321\n",
       "199  232.1    8.6        8.7   13.4  15.173196\n",
       "\n",
       "[200 rows x 5 columns]"
      ]
     },
     "execution_count": 18,
     "metadata": {},
     "output_type": "execute_result"
    }
   ],
   "source": [
    "df"
   ]
  },
  {
   "cell_type": "markdown",
   "id": "82dda403",
   "metadata": {},
   "source": [
    "## 可视化"
   ]
  },
  {
   "cell_type": "code",
   "execution_count": 19,
   "id": "a034cb97",
   "metadata": {},
   "outputs": [],
   "source": [
    "import matplotlib.pyplot  as plt "
   ]
  },
  {
   "cell_type": "code",
   "execution_count": 24,
   "id": "d7a6341f",
   "metadata": {},
   "outputs": [
    {
     "data": {
      "text/plain": [
       "<Figure size 1200x400 with 0 Axes>"
      ]
     },
     "metadata": {},
     "output_type": "display_data"
    },
    {
     "data": {
      "image/png": "[encoded data removed]",
      "text/plain": [
       "<Figure size 640x480 with 1 Axes>"
      ]
     },
     "metadata": {},
     "output_type": "display_data"
    }
   ],
   "source": [
    "plt.figure(figsize=(12, 4))\n",
    "_ = df[['Sales', 'y_predcit']].plot()"
   ]
  },
  {
   "cell_type": "markdown",
   "id": "60865e9e",
   "metadata": {},
   "source": [
    "## 性能评估"
   ]
  },
  {
   "cell_type": "code",
   "execution_count": 25,
   "id": "642190d8",
   "metadata": {},
   "outputs": [],
   "source": [
    "from  sklearn.metrics import  r2_score"
   ]
  },
  {
   "cell_type": "code",
   "execution_count": 26,
   "id": "0f7871b2",
   "metadata": {},
   "outputs": [
    {
     "data": {
      "text/plain": [
       "0.8972106381789522"
      ]
     },
     "execution_count": 26,
     "metadata": {},
     "output_type": "execute_result"
    }
   ],
   "source": [
    "r2_score(df['Sales'], y_predcit)"
   ]
  },
  {
   "cell_type": "markdown",
   "id": "2f283bc2",
   "metadata": {},
   "source": [
    "## 模型的细节"
   ]
  },
  {
   "cell_type": "code",
   "execution_count": 31,
   "id": "2836ad34",
   "metadata": {},
   "outputs": [
    {
     "data": {
      "text/plain": [
       "2.9388893694594085"
      ]
     },
     "execution_count": 31,
     "metadata": {},
     "output_type": "execute_result"
    }
   ],
   "source": [
    "model.intercept_"
   ]
  },
  {
   "cell_type": "code",
   "execution_count": 33,
   "id": "600afd56",
   "metadata": {},
   "outputs": [
    {
     "data": {
      "text/plain": [
       "numpy.ndarray"
      ]
     },
     "execution_count": 33,
     "metadata": {},
     "output_type": "execute_result"
    }
   ],
   "source": [
    "type(model.coef_)"
   ]
  },
  {
   "cell_type": "code",
   "execution_count": 34,
   "id": "7799ab7d",
   "metadata": {},
   "outputs": [],
   "source": [
    "import numpy as np"
   ]
  },
  {
   "cell_type": "code",
   "execution_count": 40,
   "id": "b4163c28",
   "metadata": {},
   "outputs": [
    {
     "data": {
      "text/html": [
       "<div>\n",
       "<style scoped>\n",
       "    .dataframe tbody tr th:only-of-type {\n",
       "        vertical-align: middle;\n",
       "    }\n",
       "\n",
       "    .dataframe tbody tr th {\n",
       "        vertical-align: top;\n",
       "    }\n",
       "\n",
       "    .dataframe thead th {\n",
       "        text-align: right;\n",
       "    }\n",
       "</style>\n",
       "<table border=\"1\" class=\"dataframe\">\n",
       "  <thead>\n",
       "    <tr style=\"text-align: right;\">\n",
       "      <th></th>\n",
       "      <th>TV</th>\n",
       "      <th>Radio</th>\n",
       "      <th>Newspaper</th>\n",
       "      <th>Sales</th>\n",
       "      <th>y_predcit</th>\n",
       "    </tr>\n",
       "  </thead>\n",
       "  <tbody>\n",
       "    <tr>\n",
       "      <th>0</th>\n",
       "      <td>230.1</td>\n",
       "      <td>37.8</td>\n",
       "      <td>69.2</td>\n",
       "      <td>22.1</td>\n",
       "      <td>20.523974</td>\n",
       "    </tr>\n",
       "    <tr>\n",
       "      <th>1</th>\n",
       "      <td>44.5</td>\n",
       "      <td>39.3</td>\n",
       "      <td>45.1</td>\n",
       "      <td>10.4</td>\n",
       "      <td>12.337855</td>\n",
       "    </tr>\n",
       "    <tr>\n",
       "      <th>2</th>\n",
       "      <td>17.2</td>\n",
       "      <td>45.9</td>\n",
       "      <td>69.3</td>\n",
       "      <td>9.3</td>\n",
       "      <td>12.307671</td>\n",
       "    </tr>\n",
       "    <tr>\n",
       "      <th>3</th>\n",
       "      <td>151.5</td>\n",
       "      <td>41.3</td>\n",
       "      <td>58.5</td>\n",
       "      <td>18.5</td>\n",
       "      <td>17.597830</td>\n",
       "    </tr>\n",
       "    <tr>\n",
       "      <th>4</th>\n",
       "      <td>180.8</td>\n",
       "      <td>10.8</td>\n",
       "      <td>58.4</td>\n",
       "      <td>12.9</td>\n",
       "      <td>13.188672</td>\n",
       "    </tr>\n",
       "    <tr>\n",
       "      <th>...</th>\n",
       "      <td>...</td>\n",
       "      <td>...</td>\n",
       "      <td>...</td>\n",
       "      <td>...</td>\n",
       "      <td>...</td>\n",
       "    </tr>\n",
       "    <tr>\n",
       "      <th>195</th>\n",
       "      <td>38.2</td>\n",
       "      <td>3.7</td>\n",
       "      <td>13.8</td>\n",
       "      <td>7.6</td>\n",
       "      <td>5.370342</td>\n",
       "    </tr>\n",
       "    <tr>\n",
       "      <th>196</th>\n",
       "      <td>94.2</td>\n",
       "      <td>4.9</td>\n",
       "      <td>8.1</td>\n",
       "      <td>9.7</td>\n",
       "      <td>8.165312</td>\n",
       "    </tr>\n",
       "    <tr>\n",
       "      <th>197</th>\n",
       "      <td>177.0</td>\n",
       "      <td>9.3</td>\n",
       "      <td>6.4</td>\n",
       "      <td>12.8</td>\n",
       "      <td>12.785921</td>\n",
       "    </tr>\n",
       "    <tr>\n",
       "      <th>198</th>\n",
       "      <td>283.6</td>\n",
       "      <td>42.0</td>\n",
       "      <td>66.2</td>\n",
       "      <td>25.5</td>\n",
       "      <td>23.767321</td>\n",
       "    </tr>\n",
       "    <tr>\n",
       "      <th>199</th>\n",
       "      <td>232.1</td>\n",
       "      <td>8.6</td>\n",
       "      <td>8.7</td>\n",
       "      <td>13.4</td>\n",
       "      <td>15.173196</td>\n",
       "    </tr>\n",
       "  </tbody>\n",
       "</table>\n",
       "<p>200 rows × 5 columns</p>\n",
       "</div>"
      ],
      "text/plain": [
       "        TV  Radio  Newspaper  Sales  y_predcit\n",
       "0    230.1   37.8       69.2   22.1  20.523974\n",
       "1     44.5   39.3       45.1   10.4  12.337855\n",
       "2     17.2   45.9       69.3    9.3  12.307671\n",
       "3    151.5   41.3       58.5   18.5  17.597830\n",
       "4    180.8   10.8       58.4   12.9  13.188672\n",
       "..     ...    ...        ...    ...        ...\n",
       "195   38.2    3.7       13.8    7.6   5.370342\n",
       "196   94.2    4.9        8.1    9.7   8.165312\n",
       "197  177.0    9.3        6.4   12.8  12.785921\n",
       "198  283.6   42.0       66.2   25.5  23.767321\n",
       "199  232.1    8.6        8.7   13.4  15.173196\n",
       "\n",
       "[200 rows x 5 columns]"
      ]
     },
     "execution_count": 40,
     "metadata": {},
     "output_type": "execute_result"
    }
   ],
   "source": [
    "df"
   ]
  },
  {
   "cell_type": "code",
   "execution_count": 39,
   "id": "7b6b4891",
   "metadata": {},
   "outputs": [
    {
     "data": {
      "text/plain": [
       "array([20.52397441, 12.33785482, 12.30767078, 17.59782951, 13.18867186,\n",
       "       12.47834763, 11.72975995, 12.12295317,  3.72734086, 12.55084872,\n",
       "        7.0322992 , 17.28512918, 10.57712073,  8.82630048, 18.43436638,\n",
       "       20.81929952, 12.82365674, 23.22495716,  9.95168206, 14.16607293,\n",
       "       18.10076728, 14.7405382 ,  6.4891503 , 16.5459329 ,  8.14651887,\n",
       "       15.6100386 , 14.98951429, 17.05167344, 19.41053803,  9.14402389,\n",
       "       21.6339338 , 11.3460929 ,  7.63888314, 18.86426829,  7.57483051,\n",
       "       17.00682618, 23.40590052, 15.62347779,  9.90868103, 20.44761039,\n",
       "       16.37766467, 17.2959832 , 21.59580326, 13.96385684,  8.88787996,\n",
       "       15.16152314,  8.87338673, 21.7226299 , 16.26362018,  8.1681656 ,\n",
       "       12.63121132,  9.33981296, 20.66297563, 19.94469957, 20.37443008,\n",
       "       21.2926106 ,  8.52771254, 12.77458802, 21.89805198, 18.13348698,\n",
       "        5.74215558, 22.89067208, 16.78426073, 13.21069202, 16.97773556,\n",
       "        7.84904532,  9.01603163, 12.0370073 , 18.97657924, 21.10891244,\n",
       "       17.77949782, 10.62693815, 10.36684881,  9.90298206, 17.32931197,\n",
       "       11.85832174,  4.47758904, 13.81190223,  8.81331353,  9.67530328,\n",
       "       11.44592364, 14.64794093, 10.17840799, 14.42184212, 20.78136464,\n",
       "       15.18140789, 11.59870739, 15.59378475, 11.71127101, 16.92225511,\n",
       "        9.99922965,  4.49631598, 19.15639616, 21.22757378, 10.48212385,\n",
       "       16.31492112, 12.63571716, 15.33707782, 24.11860723, 16.94035021,\n",
       "       13.87595844, 23.24248685, 17.64409385, 14.76221142, 20.30110878,\n",
       "       17.93641467,  6.12602215,  7.10850249,  3.58725841, 19.69293106,\n",
       "       14.7598741 , 21.14027498, 13.88060985, 16.40377623, 15.30509593,\n",
       "       12.91968895, 11.97874744,  6.5707774 , 15.56609348,  6.82006767,\n",
       "       14.41010605,  7.83807642, 13.6264571 , 15.0827909 , 19.45441306,\n",
       "        9.12734958, 10.57717411,  6.599669  , 22.25549161,  7.88410649,\n",
       "       10.4276871 , 15.57779819,  8.44915012, 19.26692307, 11.8368039 ,\n",
       "       14.00141385, 11.45348627, 20.85125198,  9.76842795, 19.67547632,\n",
       "        9.48964097, 18.39902932, 19.24986927,  8.76480262, 10.09133403,\n",
       "        9.70853872, 15.29422368, 23.26086103, 12.26335941,  9.8272711 ,\n",
       "       18.36720534, 10.0095377 , 16.3600003 , 18.22390132, 15.50161696,\n",
       "        5.3075589 , 15.38485192, 10.0143112 , 10.38419866, 12.39914823,\n",
       "       14.21383298, 13.55914568, 14.94678206, 17.35163608, 11.0682946 ,\n",
       "       14.22372138, 10.82439531, 13.36324677, 17.1861428 , 17.9415563 ,\n",
       "        7.39497997, 14.35827373,  7.60769238, 11.97093887, 13.74435742,\n",
       "       24.78687031, 19.9793727 , 12.1620464 , 16.01099722, 12.38455495,\n",
       "       10.5871997 , 13.92809918,  6.55467   , 24.13310013, 18.53852096,\n",
       "       20.80301059,  9.69137313, 17.07644223, 18.64430648,  6.05162411,\n",
       "       12.4891591 ,  8.42401933,  4.46622956, 18.48695797, 16.49530044,\n",
       "        5.37034248,  8.16531236, 12.78592082, 23.76732149, 15.17319554])"
      ]
     },
     "execution_count": 39,
     "metadata": {},
     "output_type": "execute_result"
    }
   ],
   "source": [
    "df.values[:,:-2] @ model.coef_ + model.intercept_"
   ]
  },
  {
   "cell_type": "markdown",
   "id": "db321304",
   "metadata": {},
   "source": [
    "## ver2 ：数据分割"
   ]
  },
  {
   "cell_type": "code",
   "execution_count": 41,
   "id": "31489bf9",
   "metadata": {},
   "outputs": [],
   "source": [
    "import pandas as pd "
   ]
  },
  {
   "cell_type": "code",
   "execution_count": 42,
   "id": "4205b97f",
   "metadata": {},
   "outputs": [],
   "source": [
    "df = pd.read_csv('Advertising.csv', usecols= [1, 2, 3,4])"
   ]
  },
  {
   "cell_type": "code",
   "execution_count": 49,
   "id": "87a6d7eb",
   "metadata": {},
   "outputs": [],
   "source": [
    "X, y = df[['TV', 'Radio', 'Newspaper']], df['Sales']"
   ]
  },
  {
   "cell_type": "code",
   "execution_count": 50,
   "id": "7f060284",
   "metadata": {},
   "outputs": [],
   "source": [
    "from sklearn.model_selection  import train_test_split"
   ]
  },
  {
   "cell_type": "code",
   "execution_count": 51,
   "id": "385f8b56",
   "metadata": {},
   "outputs": [],
   "source": [
    "X_train, X_test, y_train, y_test = train_test_split(X, y, test_size = 0.3, random_state = 0)"
   ]
  },
  {
   "cell_type": "code",
   "execution_count": 52,
   "id": "e694daef",
   "metadata": {},
   "outputs": [],
   "source": [
    "from sklearn.linear_model import LinearRegression"
   ]
  },
  {
   "cell_type": "code",
   "execution_count": 53,
   "id": "291ddc63",
   "metadata": {},
   "outputs": [],
   "source": [
    "model = LinearRegression().fit(X_train, y_train)"
   ]
  },
  {
   "cell_type": "code",
   "execution_count": 55,
   "id": "d200ee89",
   "metadata": {},
   "outputs": [],
   "source": [
    "y_predcit_on_test = model.predict(X_test)"
   ]
  },
  {
   "cell_type": "code",
   "execution_count": 62,
   "id": "5835155a",
   "metadata": {},
   "outputs": [
    {
     "data": {
      "image/png": "[encoded data removed]",
      "text/plain": [
       "<Figure size 640x480 with 1 Axes>"
      ]
     },
     "metadata": {},
     "output_type": "display_data"
    }
   ],
   "source": [
    "plt.scatter(range(len(y_test)),y_predcit_on_test)\n",
    "plt.scatter(range(len(y_test)),y_test)\n",
    "plt.show()"
   ]
  },
  {
   "cell_type": "code",
   "execution_count": 61,
   "id": "15dd28a4",
   "metadata": {},
   "outputs": [
    {
     "data": {
      "text/plain": [
       "0.8649018906637793"
      ]
     },
     "execution_count": 61,
     "metadata": {},
     "output_type": "execute_result"
    }
   ],
   "source": [
    "r2_score(y_test, y_predcit_on_test)"
   ]
  },
  {
   "cell_type": "code",
   "execution_count": null,
   "id": "c6929c90",
   "metadata": {},
   "outputs": [],
   "source": []
  }
 ],
 "metadata": {
  "kernelspec": {
   "display_name": "Python 3 (ipykernel)",
   "language": "python",
   "name": "python3"
  },
  "language_info": {
   "codemirror_mode": {
    "name": "ipython",
    "version": 3
   },
   "file_extension": ".py",
   "mimetype": "text/x-python",
   "name": "python",
   "nbconvert_exporter": "python",
   "pygments_lexer": "ipython3",
   "version": "3.9.13"
  },
  "toc": {
   "base_numbering": 1,
   "nav_menu": {},
   "number_sections": true,
   "sideBar": true,
   "skip_h1_title": false,
   "title_cell": "Table of Contents",
   "title_sidebar": "Contents",
   "toc_cell": false,
   "toc_position": {},
   "toc_section_display": true,
   "toc_window_display": false
  },
  "varInspector": {
   "cols": {
    "lenName": 16,
    "lenType": 16,
    "lenVar": 40
   },
   "kernels_config": {
    "python": {
     "delete_cmd_postfix": "",
     "delete_cmd_prefix": "del ",
     "library": "var_list.py",
     "varRefreshCmd": "print(var_dic_list())"
    },
    "r": {
     "delete_cmd_postfix": ") ",
     "delete_cmd_prefix": "rm(",
     "library": "var_list.r",
     "varRefreshCmd": "cat(var_dic_list()) "
    }
   },
   "types_to_exclude": [
    "module",
    "function",
    "builtin_function_or_method",
    "instance",
    "_Feature"
   ],
   "window_display": false
  }
 },
 "nbformat": 4,
 "nbformat_minor": 5
}
